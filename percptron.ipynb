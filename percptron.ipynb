{
  "nbformat": 4,
  "nbformat_minor": 0,
  "metadata": {
    "colab": {
      "name": "percptron.ipynb",
      "provenance": [],
      "collapsed_sections": [],
      "authorship_tag": "ABX9TyPvjAWTDjRXeW5b+YWS+miI",
      "include_colab_link": true
    },
    "kernelspec": {
      "name": "python3",
      "display_name": "Python 3"
    },
    "language_info": {
      "name": "python"
    }
  },
  "cells": [
    {
      "cell_type": "markdown",
      "metadata": {
        "id": "view-in-github",
        "colab_type": "text"
      },
      "source": [
        "<a href=\"https://colab.research.google.com/github/iAmVickster/colab-code/blob/master/percptron.ipynb\" target=\"_parent\"><img src=\"https://colab.research.google.com/assets/colab-badge.svg\" alt=\"Open In Colab\"/></a>"
      ]
    },
    {
      "cell_type": "markdown",
      "source": [
        "#PERCEPTRON"
      ],
      "metadata": {
        "id": "DE3H1O029lcL"
      }
    },
    {
      "cell_type": "markdown",
      "source": [
        "###Importing Library"
      ],
      "metadata": {
        "id": "xKVGfJ-F7Zaq"
      }
    },
    {
      "cell_type": "code",
      "execution_count": 24,
      "metadata": {
        "id": "s6pM5RUA0_JH"
      },
      "outputs": [],
      "source": [
        "from numpy import array,dot,random\n",
        "from random import choice"
      ]
    },
    {
      "cell_type": "markdown",
      "source": [
        "###Activation function"
      ],
      "metadata": {
        "id": "DAFnKctq7fQy"
      }
    },
    {
      "cell_type": "code",
      "source": [
        "activationfn = lambda x: 0 if x<0 else 1"
      ],
      "metadata": {
        "id": "8onALlP87tCj"
      },
      "execution_count": 25,
      "outputs": []
    },
    {
      "cell_type": "markdown",
      "source": [
        "###Training Dataset\n"
      ],
      "metadata": {
        "id": "LA6JgFBc8DCD"
      }
    },
    {
      "cell_type": "code",
      "source": [
        "dataset = [\n",
        "           (array([0,0,1]), 0),\n",
        "           (array([0,1,1]), 1),\n",
        "           (array([1,0,1]), 1),\n",
        "           (array([1,1,1]), 1)\n",
        "           ]\n",
        "print(dataset)"
      ],
      "metadata": {
        "colab": {
          "base_uri": "https://localhost:8080/"
        },
        "id": "xG1e5SN48HBk",
        "outputId": "a34ecbea-fb7c-4995-a5a0-d13c93eef8c6"
      },
      "execution_count": 26,
      "outputs": [
        {
          "output_type": "stream",
          "name": "stdout",
          "text": [
            "[(array([0, 0, 1]), 0), (array([0, 1, 1]), 1), (array([1, 0, 1]), 1), (array([1, 1, 1]), 1)]\n"
          ]
        }
      ]
    },
    {
      "cell_type": "markdown",
      "source": [
        "###Initializing random numbers for Weights"
      ],
      "metadata": {
        "id": "Lu-yL--h9Z8T"
      }
    },
    {
      "cell_type": "code",
      "source": [
        "weights = random.rand(3)\n",
        "print(weights)"
      ],
      "metadata": {
        "colab": {
          "base_uri": "https://localhost:8080/"
        },
        "id": "g2hRxsjq9hBi",
        "outputId": "1358b6a0-664d-4aa3-a91b-3f67bbbe0378"
      },
      "execution_count": 27,
      "outputs": [
        {
          "output_type": "stream",
          "name": "stdout",
          "text": [
            "[0.75123192 0.79309871 0.29091613]\n"
          ]
        }
      ]
    },
    {
      "cell_type": "markdown",
      "source": [
        "###Initializing additional variables"
      ],
      "metadata": {
        "id": "WmDxHDd6-Fb0"
      }
    },
    {
      "cell_type": "code",
      "source": [
        "r = 0.2 #learn rate\n",
        "n = 100 #Iteration count"
      ],
      "metadata": {
        "id": "LHOzz_E3-LUz"
      },
      "execution_count": 28,
      "outputs": []
    },
    {
      "cell_type": "markdown",
      "source": [
        "###Training Model"
      ],
      "metadata": {
        "id": "Az0zcUkk-YCT"
      }
    },
    {
      "cell_type": "code",
      "source": [
        "for i in range(n):\n",
        "  x, expected = choice(dataset)\n",
        "  #print(x,expected)\n",
        "  res = dot(weights, x)\n",
        "  err = expected-activationfn(res)\n",
        "  weights += r * err * r"
      ],
      "metadata": {
        "id": "QvoG2hgP-bFl"
      },
      "execution_count": 29,
      "outputs": []
    },
    {
      "cell_type": "markdown",
      "source": [
        "###Evaluating Model"
      ],
      "metadata": {
        "id": "2nUHqr8wA51m"
      }
    },
    {
      "cell_type": "code",
      "source": [
        "for x, _ in dataset:\n",
        "  res = dot(x, weights)\n",
        "  print(\"Input: {} ResultBAFn: {} ResultAAFn: {}\".format(x[:2],round(res, 3),activationfn(res)))\n"
      ],
      "metadata": {
        "colab": {
          "base_uri": "https://localhost:8080/"
        },
        "id": "eY1b1AAfA87-",
        "outputId": "29fbe4f7-10f8-4fef-c207-af5eae256140"
      },
      "execution_count": 30,
      "outputs": [
        {
          "output_type": "stream",
          "name": "stdout",
          "text": [
            "Input: [0 0] ResultBAFn: -0.029 ResultAAFn: 0\n",
            "Input: [0 1] ResultBAFn: 0.444 ResultAAFn: 1\n",
            "Input: [1 0] ResultBAFn: 0.402 ResultAAFn: 1\n",
            "Input: [1 1] ResultBAFn: 0.875 ResultAAFn: 1\n"
          ]
        }
      ]
    }
  ]
}