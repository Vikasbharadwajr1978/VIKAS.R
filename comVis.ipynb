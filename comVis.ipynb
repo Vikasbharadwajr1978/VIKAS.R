{
  "nbformat": 4,
  "nbformat_minor": 0,
  "metadata": {
    "colab": {
      "name": "comVis.ipynb",
      "provenance": [],
      "collapsed_sections": [],
      "authorship_tag": "ABX9TyPfJiT+HSPUcxYn7av3XW1J",
      "include_colab_link": true
    },
    "kernelspec": {
      "name": "python3",
      "display_name": "Python 3"
    },
    "language_info": {
      "name": "python"
    }
  },
  "cells": [
    {
      "cell_type": "markdown",
      "metadata": {
        "id": "view-in-github",
        "colab_type": "text"
      },
      "source": [
        "<a href=\"https://colab.research.google.com/github/iAmVickster/VIKAS.R/blob/master/comVis.ipynb\" target=\"_parent\"><img src=\"https://colab.research.google.com/assets/colab-badge.svg\" alt=\"Open In Colab\"/></a>"
      ]
    },
    {
      "cell_type": "code",
      "execution_count": 5,
      "metadata": {
        "id": "1WNiYsMN_kt1",
        "colab": {
          "base_uri": "https://localhost:8080/"
        },
        "outputId": "1c5710e0-c99d-44af-bc73-7d98e2f1c445"
      },
      "outputs": [
        {
          "output_type": "execute_result",
          "data": {
            "text/plain": [
              "True"
            ]
          },
          "metadata": {},
          "execution_count": 5
        }
      ],
      "source": [
        "import cv2\n",
        "import imutils\n",
        "img = cv2.imread(\"cap.jpg\")\n",
        "resizeImg = imutils.resize(img,width=50)\n",
        "cv2.imwrite(\"resizedImage.jpg\",resizeImg)"
      ]
    },
    {
      "cell_type": "code",
      "source": [
        "import cv2\n",
        "img = cv2.imread(\"cap.jpg\")\n",
        "smoothImg = cv2.GaussianBlur(img,(21,21),0)\n",
        "cv2.imwrite(\"GaussianBlur.jpg\",smoothImg)"
      ],
      "metadata": {
        "colab": {
          "base_uri": "https://localhost:8080/"
        },
        "id": "ndFypgj0fU8P",
        "outputId": "668e8902-b0ba-473a-f044-724d77b3df23"
      },
      "execution_count": 7,
      "outputs": [
        {
          "output_type": "execute_result",
          "data": {
            "text/plain": [
              "True"
            ]
          },
          "metadata": {},
          "execution_count": 7
        }
      ]
    },
    {
      "cell_type": "code",
      "source": [
        "import cv2\n",
        "img = cv2.imread(\"cap.jpg\")\n",
        "grayImg = cv2.cvtColor(img,cv2.COLOR_BGR2GRAY)\n",
        "thresImg = cv2.threshold(grayImg,120,200,cv2.THRESH_BINARY)[1]\n",
        "cv2.imwrite(\"thresholdImg.jpg\",thresImg)"
      ],
      "metadata": {
        "colab": {
          "base_uri": "https://localhost:8080/"
        },
        "id": "P643nWIFgFXR",
        "outputId": "5a21d8f3-98dc-4a28-8318-3cc4df1703b9"
      },
      "execution_count": 12,
      "outputs": [
        {
          "output_type": "execute_result",
          "data": {
            "text/plain": [
              "True"
            ]
          },
          "metadata": {},
          "execution_count": 12
        }
      ]
    }
  ]
}